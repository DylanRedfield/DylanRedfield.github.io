{
 "cells": [
  {
   "cell_type": "markdown",
   "metadata": {},
   "source": [
    "# Can meaningful political extrapolations be made from President Donald Trump's twitter feed?\n",
    "\n",
    "### Solo project by Dylan Redfield\n",
    "\n",
    "# Introduction\n",
    "Communication between the President of the United States and his constituents is an ever evolving phenomenon of US politics. The vast majority of American history saw a significant buffer zone between the daily operations of the president and the press. As communication technology like the [radio](https://en.wikipedia.org/wiki/Fireside_chats) and [television](https://www.youtube.com/watch?v=QazmVHAO0os) became a staple of American homes, the role of the [press secretary](https://en.wikipedia.org/wiki/White_House_Press_Secretary) became increasingly important. For better or worse the American public would have controlled access to the president, curated into only their most refined moments.\n",
    "\n",
    "But Donald Trump’s usage of [twitter](https://twitter.com/realDonaldTrump) has flipped the status quo on its heels by offering a constant stream of primary source access to the President. For better or for worse, Trump’s tweets are not controlled or curated, but rather a direct line to exactly what he is thinking at any given time. He hasn’t been known to hold back against political enemies, both foreign and domestic-- often times going on sprees of late night attacks, which some critics call erratic. \n",
    "\n",
    "But is Trump’s twitter usage really a meaningful connection to the people, or a harmful distraction with material consequences? We wish to seek our that answer through quantitative analysis. Does his twitter habits have an effect on his approval rating? And how legitimate are the fears of Trump’s late night twitter rampages? Could they have a positive effect of gaining support from his base? Can we predict that level of support based on the content of the tweets?\n",
    "\n",
    "Let’s find out.\n",
    "\n",
    "## Datasets\n",
    "We’ll be utilizing two databases for our analysis\n",
    "\n",
    "- The [Trump twitter archive](http://www.trumptwitterarchive.com/archive) provides up to date tweets from Donald Trump’s twitter in a nifty csv file\n",
    "- The [538 Trump approval rating dataset](https://github.com/fivethirtyeight/data/tree/master/trump-approval-ratings) provides day by day approval rating stats for several different pollsters including gallup, rameuseun, etc\n",
    "\n",
    "## Required tools\n",
    "All of our data analysis will be done using python, primarily with the numpy stack. Tools like conda and pip can be used to easily install them. The library include\n",
    "\n",
    "#### [Numpy](http://www.numpy.org/)\n",
    "allows us to store and modify matrix data quickly and easily. Most of the other libraries used rely heavily on numpy's work.\n",
    "\n",
    "#### [Pandas](https://pandas.pydata.org/)\n",
    "allows us to store and manipulate tabular data with ease.\n",
    "\n",
    "#### [Seaborn](https://seaborn.pydata.org/)\n",
    "is a useful library for creating rich visualization using data from pandas.\n",
    "\n",
    "#### [TextBlob](https://textblob.readthedocs.io/en/dev/)\n",
    "is a natural language processing library with built in functions for sentiment analysis. We’ll go over this in more detail when we use it later down in the tutorial\n",
    "\n",
    "#### [Scikit-learn](https://scikit-learn.org/stable/)\n",
    "offers machine learning fucntionality.\n",
    "\n",
    "# 2 Data Collection\n",
    "\n",
    "You'll want to download and save our two specified databases containing Trump's tweets and approval ratings. Both datasets are provided as [Comma-separed Values (CSV)](https://en.wikipedia.org/wiki/Comma-separated_values) . As the name implies values in a CSV file are comma delimited and rows are delimited by new lines. But we don't need to worry about that as pandas offers a nifty method for reading a csv file into a dataframe that does a much better job then we could ever hope to.\n",
    "\n",
    "A [dataframe](https://pandas.pydata.org/pandas-docs/stable/10min.html) is a representation of tabular data, much like an excel spreadsheet. The linked resources will get you up to date on some of the important methods dataframe offer. But at the very minimum you should know a dataframe is made up of series (rows) and index's (columns).\n",
    "\n",
    "Below we load our data into two seperate dataframes and take a look at some of the data they give us using the head() function."
   ]
  },
  {
   "cell_type": "code",
   "execution_count": 1,
   "metadata": {},
   "outputs": [
    {
     "data": {
      "text/html": [
       "<div>\n",
       "<style scoped>\n",
       "    .dataframe tbody tr th:only-of-type {\n",
       "        vertical-align: middle;\n",
       "    }\n",
       "\n",
       "    .dataframe tbody tr th {\n",
       "        vertical-align: top;\n",
       "    }\n",
       "\n",
       "    .dataframe thead th {\n",
       "        text-align: right;\n",
       "    }\n",
       "</style>\n",
       "<table border=\"1\" class=\"dataframe\">\n",
       "  <thead>\n",
       "    <tr style=\"text-align: right;\">\n",
       "      <th></th>\n",
       "      <th>source</th>\n",
       "      <th>text</th>\n",
       "      <th>created_at</th>\n",
       "      <th>retweet_count</th>\n",
       "      <th>favorite_count</th>\n",
       "      <th>is_retweet</th>\n",
       "      <th>id_str</th>\n",
       "    </tr>\n",
       "  </thead>\n",
       "  <tbody>\n",
       "    <tr>\n",
       "      <th>0</th>\n",
       "      <td>Twitter for iPhone</td>\n",
       "      <td>I am in the process of interviewing some reall...</td>\n",
       "      <td>12-10-2018 01:27:23</td>\n",
       "      <td>7678.0</td>\n",
       "      <td>35115</td>\n",
       "      <td>false</td>\n",
       "      <td>1.071939e+18</td>\n",
       "    </tr>\n",
       "    <tr>\n",
       "      <th>1</th>\n",
       "      <td>Twitter for iPhone</td>\n",
       "      <td>The Trump Administration has accomplished more...</td>\n",
       "      <td>12-09-2018 22:43:13</td>\n",
       "      <td>19759.0</td>\n",
       "      <td>80725</td>\n",
       "      <td>false</td>\n",
       "      <td>1.071898e+18</td>\n",
       "    </tr>\n",
       "    <tr>\n",
       "      <th>2</th>\n",
       "      <td>Twitter for iPhone</td>\n",
       "      <td>Leakin’ James Comey must have set a record for...</td>\n",
       "      <td>12-09-2018 13:53:30</td>\n",
       "      <td>25910.0</td>\n",
       "      <td>96863</td>\n",
       "      <td>false</td>\n",
       "      <td>1.071765e+18</td>\n",
       "    </tr>\n",
       "    <tr>\n",
       "      <th>3</th>\n",
       "      <td>Twitter for iPhone</td>\n",
       "      <td>On 245  occasions former FBI Director James Co...</td>\n",
       "      <td>12-09-2018 13:38:22</td>\n",
       "      <td>28734.0</td>\n",
       "      <td>100857</td>\n",
       "      <td>false</td>\n",
       "      <td>1.071761e+18</td>\n",
       "    </tr>\n",
       "    <tr>\n",
       "      <th>4</th>\n",
       "      <td>Twitter for iPhone</td>\n",
       "      <td>It was my honor to attend today’s #ArmyNavyGam...</td>\n",
       "      <td>12-08-2018 23:31:15</td>\n",
       "      <td>18860.0</td>\n",
       "      <td>91805</td>\n",
       "      <td>false</td>\n",
       "      <td>1.071548e+18</td>\n",
       "    </tr>\n",
       "  </tbody>\n",
       "</table>\n",
       "</div>"
      ],
      "text/plain": [
       "               source                                               text  \\\n",
       "0  Twitter for iPhone  I am in the process of interviewing some reall...   \n",
       "1  Twitter for iPhone  The Trump Administration has accomplished more...   \n",
       "2  Twitter for iPhone  Leakin’ James Comey must have set a record for...   \n",
       "3  Twitter for iPhone  On 245  occasions former FBI Director James Co...   \n",
       "4  Twitter for iPhone  It was my honor to attend today’s #ArmyNavyGam...   \n",
       "\n",
       "            created_at  retweet_count favorite_count is_retweet        id_str  \n",
       "0  12-10-2018 01:27:23         7678.0          35115      false  1.071939e+18  \n",
       "1  12-09-2018 22:43:13        19759.0          80725      false  1.071898e+18  \n",
       "2  12-09-2018 13:53:30        25910.0          96863      false  1.071765e+18  \n",
       "3  12-09-2018 13:38:22        28734.0         100857      false  1.071761e+18  \n",
       "4  12-08-2018 23:31:15        18860.0          91805      false  1.071548e+18  "
      ]
     },
     "execution_count": 1,
     "metadata": {},
     "output_type": "execute_result"
    }
   ],
   "source": [
    "import pandas as pd\n",
    "\n",
    "tweet_data = pd.read_csv(\"trump_twitter.csv\")\n",
    "\n",
    "tweet_data.head()"
   ]
  },
  {
   "cell_type": "markdown",
   "metadata": {},
   "source": [
    "And we're going to do the same for the approval rating data. 538 provides us with polls from several diffent pollsters, but for consistency sake we're only going to worry about polls provided by Gallup.\n",
    "\n",
    "We used the `loc` function on a dataframe to query for all rows who's pollster name is equal to 'Gallup'."
   ]
  },
  {
   "cell_type": "code",
   "execution_count": 2,
   "metadata": {},
   "outputs": [
    {
     "data": {
      "text/html": [
       "<div>\n",
       "<style scoped>\n",
       "    .dataframe tbody tr th:only-of-type {\n",
       "        vertical-align: middle;\n",
       "    }\n",
       "\n",
       "    .dataframe tbody tr th {\n",
       "        vertical-align: top;\n",
       "    }\n",
       "\n",
       "    .dataframe thead th {\n",
       "        text-align: right;\n",
       "    }\n",
       "</style>\n",
       "<table border=\"1\" class=\"dataframe\">\n",
       "  <thead>\n",
       "    <tr style=\"text-align: right;\">\n",
       "      <th></th>\n",
       "      <th>president</th>\n",
       "      <th>subgroup</th>\n",
       "      <th>modeldate</th>\n",
       "      <th>startdate</th>\n",
       "      <th>enddate</th>\n",
       "      <th>pollster</th>\n",
       "      <th>grade</th>\n",
       "      <th>samplesize</th>\n",
       "      <th>population</th>\n",
       "      <th>weight</th>\n",
       "      <th>...</th>\n",
       "      <th>disapprove</th>\n",
       "      <th>adjusted_approve</th>\n",
       "      <th>adjusted_disapprove</th>\n",
       "      <th>multiversions</th>\n",
       "      <th>tracking</th>\n",
       "      <th>url</th>\n",
       "      <th>poll_id</th>\n",
       "      <th>question_id</th>\n",
       "      <th>createddate</th>\n",
       "      <th>timestamp</th>\n",
       "    </tr>\n",
       "  </thead>\n",
       "  <tbody>\n",
       "    <tr>\n",
       "      <th>1</th>\n",
       "      <td>Donald Trump</td>\n",
       "      <td>All polls</td>\n",
       "      <td>12/7/2018</td>\n",
       "      <td>1/20/2017</td>\n",
       "      <td>1/22/2017</td>\n",
       "      <td>Gallup</td>\n",
       "      <td>B</td>\n",
       "      <td>1500.0</td>\n",
       "      <td>a</td>\n",
       "      <td>0.245429</td>\n",
       "      <td>...</td>\n",
       "      <td>45.0</td>\n",
       "      <td>46.06874</td>\n",
       "      <td>43.17091</td>\n",
       "      <td>NaN</td>\n",
       "      <td>T</td>\n",
       "      <td>http://www.gallup.com/poll/201617/gallup-daily...</td>\n",
       "      <td>49253</td>\n",
       "      <td>77265</td>\n",
       "      <td>1/23/2017</td>\n",
       "      <td>09:46:03  7 Dec 2018</td>\n",
       "    </tr>\n",
       "    <tr>\n",
       "      <th>3</th>\n",
       "      <td>Donald Trump</td>\n",
       "      <td>All polls</td>\n",
       "      <td>12/7/2018</td>\n",
       "      <td>1/21/2017</td>\n",
       "      <td>1/23/2017</td>\n",
       "      <td>Gallup</td>\n",
       "      <td>B</td>\n",
       "      <td>1500.0</td>\n",
       "      <td>a</td>\n",
       "      <td>0.226788</td>\n",
       "      <td>...</td>\n",
       "      <td>46.0</td>\n",
       "      <td>46.06874</td>\n",
       "      <td>44.17091</td>\n",
       "      <td>NaN</td>\n",
       "      <td>T</td>\n",
       "      <td>http://www.gallup.com/poll/201617/gallup-daily...</td>\n",
       "      <td>49262</td>\n",
       "      <td>77274</td>\n",
       "      <td>1/24/2017</td>\n",
       "      <td>09:46:03  7 Dec 2018</td>\n",
       "    </tr>\n",
       "    <tr>\n",
       "      <th>7</th>\n",
       "      <td>Donald Trump</td>\n",
       "      <td>All polls</td>\n",
       "      <td>12/7/2018</td>\n",
       "      <td>1/22/2017</td>\n",
       "      <td>1/24/2017</td>\n",
       "      <td>Gallup</td>\n",
       "      <td>B</td>\n",
       "      <td>1500.0</td>\n",
       "      <td>a</td>\n",
       "      <td>0.212047</td>\n",
       "      <td>...</td>\n",
       "      <td>45.0</td>\n",
       "      <td>47.06874</td>\n",
       "      <td>43.17091</td>\n",
       "      <td>NaN</td>\n",
       "      <td>T</td>\n",
       "      <td>http://www.gallup.com/poll/201617/gallup-daily...</td>\n",
       "      <td>49236</td>\n",
       "      <td>77248</td>\n",
       "      <td>1/25/2017</td>\n",
       "      <td>09:46:03  7 Dec 2018</td>\n",
       "    </tr>\n",
       "    <tr>\n",
       "      <th>10</th>\n",
       "      <td>Donald Trump</td>\n",
       "      <td>All polls</td>\n",
       "      <td>12/7/2018</td>\n",
       "      <td>1/23/2017</td>\n",
       "      <td>1/25/2017</td>\n",
       "      <td>Gallup</td>\n",
       "      <td>B</td>\n",
       "      <td>1500.0</td>\n",
       "      <td>a</td>\n",
       "      <td>0.200168</td>\n",
       "      <td>...</td>\n",
       "      <td>45.0</td>\n",
       "      <td>47.06874</td>\n",
       "      <td>43.17091</td>\n",
       "      <td>NaN</td>\n",
       "      <td>T</td>\n",
       "      <td>http://www.gallup.com/poll/201617/gallup-daily...</td>\n",
       "      <td>49245</td>\n",
       "      <td>77257</td>\n",
       "      <td>1/26/2017</td>\n",
       "      <td>09:46:03  7 Dec 2018</td>\n",
       "    </tr>\n",
       "    <tr>\n",
       "      <th>14</th>\n",
       "      <td>Donald Trump</td>\n",
       "      <td>All polls</td>\n",
       "      <td>12/7/2018</td>\n",
       "      <td>1/24/2017</td>\n",
       "      <td>1/26/2017</td>\n",
       "      <td>Gallup</td>\n",
       "      <td>B</td>\n",
       "      <td>1500.0</td>\n",
       "      <td>a</td>\n",
       "      <td>0.190472</td>\n",
       "      <td>...</td>\n",
       "      <td>48.0</td>\n",
       "      <td>46.06874</td>\n",
       "      <td>46.17091</td>\n",
       "      <td>NaN</td>\n",
       "      <td>T</td>\n",
       "      <td>http://www.gallup.com/poll/201617/gallup-daily...</td>\n",
       "      <td>49242</td>\n",
       "      <td>77254</td>\n",
       "      <td>1/27/2017</td>\n",
       "      <td>09:46:03  7 Dec 2018</td>\n",
       "    </tr>\n",
       "  </tbody>\n",
       "</table>\n",
       "<p>5 rows × 22 columns</p>\n",
       "</div>"
      ],
      "text/plain": [
       "       president   subgroup  modeldate  startdate    enddate pollster grade  \\\n",
       "1   Donald Trump  All polls  12/7/2018  1/20/2017  1/22/2017   Gallup     B   \n",
       "3   Donald Trump  All polls  12/7/2018  1/21/2017  1/23/2017   Gallup     B   \n",
       "7   Donald Trump  All polls  12/7/2018  1/22/2017  1/24/2017   Gallup     B   \n",
       "10  Donald Trump  All polls  12/7/2018  1/23/2017  1/25/2017   Gallup     B   \n",
       "14  Donald Trump  All polls  12/7/2018  1/24/2017  1/26/2017   Gallup     B   \n",
       "\n",
       "    samplesize population    weight          ...           disapprove  \\\n",
       "1       1500.0          a  0.245429          ...                 45.0   \n",
       "3       1500.0          a  0.226788          ...                 46.0   \n",
       "7       1500.0          a  0.212047          ...                 45.0   \n",
       "10      1500.0          a  0.200168          ...                 45.0   \n",
       "14      1500.0          a  0.190472          ...                 48.0   \n",
       "\n",
       "    adjusted_approve  adjusted_disapprove  multiversions  tracking  \\\n",
       "1           46.06874             43.17091            NaN         T   \n",
       "3           46.06874             44.17091            NaN         T   \n",
       "7           47.06874             43.17091            NaN         T   \n",
       "10          47.06874             43.17091            NaN         T   \n",
       "14          46.06874             46.17091            NaN         T   \n",
       "\n",
       "                                                  url poll_id question_id  \\\n",
       "1   http://www.gallup.com/poll/201617/gallup-daily...   49253       77265   \n",
       "3   http://www.gallup.com/poll/201617/gallup-daily...   49262       77274   \n",
       "7   http://www.gallup.com/poll/201617/gallup-daily...   49236       77248   \n",
       "10  http://www.gallup.com/poll/201617/gallup-daily...   49245       77257   \n",
       "14  http://www.gallup.com/poll/201617/gallup-daily...   49242       77254   \n",
       "\n",
       "    createddate             timestamp  \n",
       "1     1/23/2017  09:46:03  7 Dec 2018  \n",
       "3     1/24/2017  09:46:03  7 Dec 2018  \n",
       "7     1/25/2017  09:46:03  7 Dec 2018  \n",
       "10    1/26/2017  09:46:03  7 Dec 2018  \n",
       "14    1/27/2017  09:46:03  7 Dec 2018  \n",
       "\n",
       "[5 rows x 22 columns]"
      ]
     },
     "execution_count": 2,
     "metadata": {},
     "output_type": "execute_result"
    }
   ],
   "source": [
    "approval_data = pd.read_csv(\"approval_polllist.csv\")\n",
    "\n",
    "approval_data = approval_data.loc[approval_data['pollster'] == 'Gallup']\n",
    "\n",
    "approval_data.head()"
   ]
  },
  {
   "cell_type": "markdown",
   "metadata": {},
   "source": [
    "## Tidy data\n",
    "\n",
    "Now we have our data and while it's quite good, its not a bit rough on the edges, so we need to [tidy it up](https://en.wikipedia.org/wiki/Tidy_data).\n",
    "\n",
    "First things first, let's remove all the columns of information that are not relevent to our analysis. In the case of the approval data, that's a lot of columns."
   ]
  },
  {
   "cell_type": "code",
   "execution_count": 3,
   "metadata": {},
   "outputs": [
    {
     "data": {
      "text/html": [
       "<div>\n",
       "<style scoped>\n",
       "    .dataframe tbody tr th:only-of-type {\n",
       "        vertical-align: middle;\n",
       "    }\n",
       "\n",
       "    .dataframe tbody tr th {\n",
       "        vertical-align: top;\n",
       "    }\n",
       "\n",
       "    .dataframe thead th {\n",
       "        text-align: right;\n",
       "    }\n",
       "</style>\n",
       "<table border=\"1\" class=\"dataframe\">\n",
       "  <thead>\n",
       "    <tr style=\"text-align: right;\">\n",
       "      <th></th>\n",
       "      <th>enddate</th>\n",
       "      <th>adjusted_approve</th>\n",
       "      <th>adjusted_disapprove</th>\n",
       "    </tr>\n",
       "  </thead>\n",
       "  <tbody>\n",
       "    <tr>\n",
       "      <th>1</th>\n",
       "      <td>1/22/2017</td>\n",
       "      <td>46.06874</td>\n",
       "      <td>43.17091</td>\n",
       "    </tr>\n",
       "    <tr>\n",
       "      <th>3</th>\n",
       "      <td>1/23/2017</td>\n",
       "      <td>46.06874</td>\n",
       "      <td>44.17091</td>\n",
       "    </tr>\n",
       "    <tr>\n",
       "      <th>7</th>\n",
       "      <td>1/24/2017</td>\n",
       "      <td>47.06874</td>\n",
       "      <td>43.17091</td>\n",
       "    </tr>\n",
       "    <tr>\n",
       "      <th>10</th>\n",
       "      <td>1/25/2017</td>\n",
       "      <td>47.06874</td>\n",
       "      <td>43.17091</td>\n",
       "    </tr>\n",
       "    <tr>\n",
       "      <th>14</th>\n",
       "      <td>1/26/2017</td>\n",
       "      <td>46.06874</td>\n",
       "      <td>46.17091</td>\n",
       "    </tr>\n",
       "  </tbody>\n",
       "</table>\n",
       "</div>"
      ],
      "text/plain": [
       "      enddate  adjusted_approve  adjusted_disapprove\n",
       "1   1/22/2017          46.06874             43.17091\n",
       "3   1/23/2017          46.06874             44.17091\n",
       "7   1/24/2017          47.06874             43.17091\n",
       "10  1/25/2017          47.06874             43.17091\n",
       "14  1/26/2017          46.06874             46.17091"
      ]
     },
     "execution_count": 3,
     "metadata": {},
     "output_type": "execute_result"
    }
   ],
   "source": [
    "approval_data = approval_data.drop(\n",
    "    ['president', 'subgroup', 'modeldate',\n",
    "     'pollster', 'grade', 'samplesize', 'population', 'weight', \n",
    "     'startdate', 'multiversions', 'tracking', 'createddate', 'url', \n",
    "     'approve', 'disapprove', 'poll_id', 'timestamp', 'influence', \n",
    "     'question_id'], axis = 1)\n",
    "tweet_data = tweet_data.drop(['source', 'retweet_count', 'is_retweet',\n",
    "                              'id_str'], axis = 1)\n",
    "\n",
    "approval_data.head()"
   ]
  },
  {
   "cell_type": "markdown",
   "metadata": {},
   "source": [
    "Next you'll notice our dates aren't uniformly formated. We'll want those dates in a format that python and pandas can understand and make computations on. We'll do this using the built in `to_datetime()` pandas method.\n",
    "\n",
    "The method takes in a series, in this case our rows, and a format in which we can specifiy the month, day, year, etc. Notice that in the second conversion we set the errors paramter to coerce. This is because their is some missing data. We want the operationt to still go through, so the 'coerce flag' set's invalid values to NaT, that we'll then throwaway with the `dropna()` method.\n",
    "\n"
   ]
  },
  {
   "cell_type": "code",
   "execution_count": 4,
   "metadata": {},
   "outputs": [],
   "source": [
    "from datetime import datetime\n",
    "import math\n",
    "\n",
    "# Make datetimes\n",
    "approval_data[\"enddate\"] = pd.to_datetime(approval_data[\"enddate\"], \n",
    "                                          format = \"%m/%d/%Y\")\n",
    "tweet_data[\"created_at\"] = pd.to_datetime(tweet_data[\"created_at\"], \n",
    "                                          format = \"%m-%d-%Y %H:%M:%S\", \n",
    "                                          errors = 'coerce')\n",
    "\n",
    "# drop missing dates\n",
    "tweet_data = tweet_data.dropna(subset = ['created_at'])\n",
    "\n"
   ]
  },
  {
   "cell_type": "markdown",
   "metadata": {},
   "source": [
    "The favorites data is interpreted by pandas as a string, but we want to convert it to an integer with the `to_numberic()` command.\n",
    "\n",
    "The dataset also includes retweets, but retweets cannot be favorited, so they get values of zero which can seriously skew our data, so we are going to drop those columns\n",
    "\n",
    "Since we removed rows from each, we'll also want to reindex."
   ]
  },
  {
   "cell_type": "code",
   "execution_count": 5,
   "metadata": {},
   "outputs": [],
   "source": [
    "tweet_data['favorite_count'] = pd.to_numeric(tweet_data['favorite_count'])\n",
    "tweet_data = tweet_data.loc[tweet_data['favorite_count'] != 0]\n",
    "\n",
    "tweet_data = tweet_data.reset_index(drop = True)\n",
    "approval_data = approval_data.reset_index(drop = True)"
   ]
  },
  {
   "cell_type": "markdown",
   "metadata": {},
   "source": [
    "We're pretty close to having some quality tidy data, but as a last finishing touch we'll rename the indexes to some more friendly and explanatory names."
   ]
  },
  {
   "cell_type": "code",
   "execution_count": 6,
   "metadata": {},
   "outputs": [],
   "source": [
    "tweet_data.columns = ['text', 'date', 'favorites']\n",
    "approval_data.columns = ['date', 'approve', 'disapprove']"
   ]
  },
  {
   "cell_type": "markdown",
   "metadata": {},
   "source": [
    "Now let's take a look at our final tidy and data sets."
   ]
  },
  {
   "cell_type": "code",
   "execution_count": 7,
   "metadata": {},
   "outputs": [
    {
     "data": {
      "text/html": [
       "<div>\n",
       "<style scoped>\n",
       "    .dataframe tbody tr th:only-of-type {\n",
       "        vertical-align: middle;\n",
       "    }\n",
       "\n",
       "    .dataframe tbody tr th {\n",
       "        vertical-align: top;\n",
       "    }\n",
       "\n",
       "    .dataframe thead th {\n",
       "        text-align: right;\n",
       "    }\n",
       "</style>\n",
       "<table border=\"1\" class=\"dataframe\">\n",
       "  <thead>\n",
       "    <tr style=\"text-align: right;\">\n",
       "      <th></th>\n",
       "      <th>date</th>\n",
       "      <th>approve</th>\n",
       "      <th>disapprove</th>\n",
       "    </tr>\n",
       "  </thead>\n",
       "  <tbody>\n",
       "    <tr>\n",
       "      <th>0</th>\n",
       "      <td>2017-01-22</td>\n",
       "      <td>46.06874</td>\n",
       "      <td>43.17091</td>\n",
       "    </tr>\n",
       "    <tr>\n",
       "      <th>1</th>\n",
       "      <td>2017-01-23</td>\n",
       "      <td>46.06874</td>\n",
       "      <td>44.17091</td>\n",
       "    </tr>\n",
       "    <tr>\n",
       "      <th>2</th>\n",
       "      <td>2017-01-24</td>\n",
       "      <td>47.06874</td>\n",
       "      <td>43.17091</td>\n",
       "    </tr>\n",
       "    <tr>\n",
       "      <th>3</th>\n",
       "      <td>2017-01-25</td>\n",
       "      <td>47.06874</td>\n",
       "      <td>43.17091</td>\n",
       "    </tr>\n",
       "    <tr>\n",
       "      <th>4</th>\n",
       "      <td>2017-01-26</td>\n",
       "      <td>46.06874</td>\n",
       "      <td>46.17091</td>\n",
       "    </tr>\n",
       "  </tbody>\n",
       "</table>\n",
       "</div>"
      ],
      "text/plain": [
       "        date   approve  disapprove\n",
       "0 2017-01-22  46.06874    43.17091\n",
       "1 2017-01-23  46.06874    44.17091\n",
       "2 2017-01-24  47.06874    43.17091\n",
       "3 2017-01-25  47.06874    43.17091\n",
       "4 2017-01-26  46.06874    46.17091"
      ]
     },
     "execution_count": 7,
     "metadata": {},
     "output_type": "execute_result"
    }
   ],
   "source": [
    "approval_data.head()"
   ]
  },
  {
   "cell_type": "code",
   "execution_count": 8,
   "metadata": {},
   "outputs": [
    {
     "data": {
      "text/html": [
       "<div>\n",
       "<style scoped>\n",
       "    .dataframe tbody tr th:only-of-type {\n",
       "        vertical-align: middle;\n",
       "    }\n",
       "\n",
       "    .dataframe tbody tr th {\n",
       "        vertical-align: top;\n",
       "    }\n",
       "\n",
       "    .dataframe thead th {\n",
       "        text-align: right;\n",
       "    }\n",
       "</style>\n",
       "<table border=\"1\" class=\"dataframe\">\n",
       "  <thead>\n",
       "    <tr style=\"text-align: right;\">\n",
       "      <th></th>\n",
       "      <th>text</th>\n",
       "      <th>date</th>\n",
       "      <th>favorites</th>\n",
       "    </tr>\n",
       "  </thead>\n",
       "  <tbody>\n",
       "    <tr>\n",
       "      <th>0</th>\n",
       "      <td>I am in the process of interviewing some reall...</td>\n",
       "      <td>2018-12-10 01:27:23</td>\n",
       "      <td>35115</td>\n",
       "    </tr>\n",
       "    <tr>\n",
       "      <th>1</th>\n",
       "      <td>The Trump Administration has accomplished more...</td>\n",
       "      <td>2018-12-09 22:43:13</td>\n",
       "      <td>80725</td>\n",
       "    </tr>\n",
       "    <tr>\n",
       "      <th>2</th>\n",
       "      <td>Leakin’ James Comey must have set a record for...</td>\n",
       "      <td>2018-12-09 13:53:30</td>\n",
       "      <td>96863</td>\n",
       "    </tr>\n",
       "    <tr>\n",
       "      <th>3</th>\n",
       "      <td>On 245  occasions former FBI Director James Co...</td>\n",
       "      <td>2018-12-09 13:38:22</td>\n",
       "      <td>100857</td>\n",
       "    </tr>\n",
       "    <tr>\n",
       "      <th>4</th>\n",
       "      <td>It was my honor to attend today’s #ArmyNavyGam...</td>\n",
       "      <td>2018-12-08 23:31:15</td>\n",
       "      <td>91805</td>\n",
       "    </tr>\n",
       "  </tbody>\n",
       "</table>\n",
       "</div>"
      ],
      "text/plain": [
       "                                                text                date  \\\n",
       "0  I am in the process of interviewing some reall... 2018-12-10 01:27:23   \n",
       "1  The Trump Administration has accomplished more... 2018-12-09 22:43:13   \n",
       "2  Leakin’ James Comey must have set a record for... 2018-12-09 13:53:30   \n",
       "3  On 245  occasions former FBI Director James Co... 2018-12-09 13:38:22   \n",
       "4  It was my honor to attend today’s #ArmyNavyGam... 2018-12-08 23:31:15   \n",
       "\n",
       "   favorites  \n",
       "0      35115  \n",
       "1      80725  \n",
       "2      96863  \n",
       "3     100857  \n",
       "4      91805  "
      ]
     },
     "execution_count": 8,
     "metadata": {},
     "output_type": "execute_result"
    }
   ],
   "source": [
    "tweet_data.head()"
   ]
  },
  {
   "cell_type": "markdown",
   "metadata": {},
   "source": [
    "That's some damn fine lookin' data.\n",
    "\n",
    "# Weekly Processing\n",
    "For our fist hypothesis we want to analysis if there is a relationship between Trump's twitter usage and his approval rating. There will be a significant lag in approval rating from when a causal event happens, so we want to analyze based on weekly aggregates.\n",
    "\n",
    "We'll start by adding a week column to both datasets that we'll then use to group our dataframes together. To do this we use the `apply()` function on our dataframe. This function applys a function to all other rows or columns and modifies it based on the result. In our case we want to modify each row, so we supply the parameter `axis = 1`, otherwise an entire column would be fed into pandas.\n",
    "\n",
    "In the `add_week()` function, we are calcuating what week of the Trump presidency it is, meaning how many weeks has it been since the [inarguation day](https://en.wikipedia.org/wiki/United_States_presidential_inauguration)."
   ]
  },
  {
   "cell_type": "code",
   "execution_count": 9,
   "metadata": {},
   "outputs": [
    {
     "data": {
      "text/html": [
       "<div>\n",
       "<style scoped>\n",
       "    .dataframe tbody tr th:only-of-type {\n",
       "        vertical-align: middle;\n",
       "    }\n",
       "\n",
       "    .dataframe tbody tr th {\n",
       "        vertical-align: top;\n",
       "    }\n",
       "\n",
       "    .dataframe thead th {\n",
       "        text-align: right;\n",
       "    }\n",
       "</style>\n",
       "<table border=\"1\" class=\"dataframe\">\n",
       "  <thead>\n",
       "    <tr style=\"text-align: right;\">\n",
       "      <th></th>\n",
       "      <th>date</th>\n",
       "      <th>approve</th>\n",
       "      <th>disapprove</th>\n",
       "      <th>week</th>\n",
       "    </tr>\n",
       "  </thead>\n",
       "  <tbody>\n",
       "    <tr>\n",
       "      <th>0</th>\n",
       "      <td>2017-01-22</td>\n",
       "      <td>46.06874</td>\n",
       "      <td>43.17091</td>\n",
       "      <td>0</td>\n",
       "    </tr>\n",
       "    <tr>\n",
       "      <th>1</th>\n",
       "      <td>2017-01-23</td>\n",
       "      <td>46.06874</td>\n",
       "      <td>44.17091</td>\n",
       "      <td>0</td>\n",
       "    </tr>\n",
       "    <tr>\n",
       "      <th>2</th>\n",
       "      <td>2017-01-24</td>\n",
       "      <td>47.06874</td>\n",
       "      <td>43.17091</td>\n",
       "      <td>0</td>\n",
       "    </tr>\n",
       "    <tr>\n",
       "      <th>3</th>\n",
       "      <td>2017-01-25</td>\n",
       "      <td>47.06874</td>\n",
       "      <td>43.17091</td>\n",
       "      <td>0</td>\n",
       "    </tr>\n",
       "    <tr>\n",
       "      <th>4</th>\n",
       "      <td>2017-01-26</td>\n",
       "      <td>46.06874</td>\n",
       "      <td>46.17091</td>\n",
       "      <td>0</td>\n",
       "    </tr>\n",
       "  </tbody>\n",
       "</table>\n",
       "</div>"
      ],
      "text/plain": [
       "        date   approve  disapprove  week\n",
       "0 2017-01-22  46.06874    43.17091     0\n",
       "1 2017-01-23  46.06874    44.17091     0\n",
       "2 2017-01-24  47.06874    43.17091     0\n",
       "3 2017-01-25  47.06874    43.17091     0\n",
       "4 2017-01-26  46.06874    46.17091     0"
      ]
     },
     "execution_count": 9,
     "metadata": {},
     "output_type": "execute_result"
    }
   ],
   "source": [
    "inarguation = datetime(2017, 1, 20, 0, 0, 0)\n",
    "\n",
    "def add_week(series):\n",
    "    delta = series['date'] - inarguation\n",
    "    week = math.floor(delta.days / 7)\n",
    "    series['week'] = week\n",
    "    return series\n",
    "\n",
    "approval_data = approval_data.apply(add_week, axis = 1)\n",
    "\n",
    "tweet_data = tweet_data.apply(add_week, axis = 1)\n",
    "approval_data.head()"
   ]
  },
  {
   "cell_type": "markdown",
   "metadata": {},
   "source": [
    "We want to make sure the data is as complete as possible, but they lag a bit in the first and last weeks, so we can drop those. Also the tweet dataset contains all of Trump's tweets, not just those as president, so we need to drop all values with negative weeks."
   ]
  },
  {
   "cell_type": "code",
   "execution_count": 10,
   "metadata": {},
   "outputs": [],
   "source": [
    "tweet_data = tweet_data[tweet_data.week != 98]\n",
    "approval_data = approval_data[approval_data.week != 98]\n",
    "tweet_data = tweet_data[tweet_data.week != 97]\n",
    "approval_data = approval_data[approval_data.week != 97]\n",
    "\n",
    "tweet_data = tweet_data[tweet_data.week >= 0]\n",
    "approval_data = approval_data[approval_data.week >= 0]"
   ]
  },
  {
   "cell_type": "markdown",
   "metadata": {},
   "source": [
    "Now we're ready to start aggreating our data based on weekly metrics. We'll create a seperate dataframe for this as to not messy our original data that we are going to use in other computations. \n",
    "\n",
    "The week number makes a good index value since it is independent to all observations.\n",
    "\n",
    "Below we utilze a similar strategy of applying functions to rows, but with a slight twist. First we group the values together by their week. In this case our auxilary functions take in DataFrame, and return a series which we save into a column of our weekly dataframe.\n",
    "\n",
    "Also notice that we add a week column. This might seem silly because the index represents the week, but it is useful for the visualization we do later.\n",
    "\n",
    "So we take some weekly agregates like the number of tweets and the average approval and disapprove rating of the week."
   ]
  },
  {
   "cell_type": "code",
   "execution_count": 11,
   "metadata": {},
   "outputs": [
    {
     "data": {
      "text/html": [
       "<div>\n",
       "<style scoped>\n",
       "    .dataframe tbody tr th:only-of-type {\n",
       "        vertical-align: middle;\n",
       "    }\n",
       "\n",
       "    .dataframe tbody tr th {\n",
       "        vertical-align: top;\n",
       "    }\n",
       "\n",
       "    .dataframe thead th {\n",
       "        text-align: right;\n",
       "    }\n",
       "</style>\n",
       "<table border=\"1\" class=\"dataframe\">\n",
       "  <thead>\n",
       "    <tr style=\"text-align: right;\">\n",
       "      <th></th>\n",
       "      <th>week</th>\n",
       "      <th>tweets</th>\n",
       "      <th>approve</th>\n",
       "      <th>disapprove</th>\n",
       "    </tr>\n",
       "  </thead>\n",
       "  <tbody>\n",
       "    <tr>\n",
       "      <th>1</th>\n",
       "      <td>1</td>\n",
       "      <td>41</td>\n",
       "      <td>43.359501</td>\n",
       "      <td>49.416682</td>\n",
       "    </tr>\n",
       "    <tr>\n",
       "      <th>2</th>\n",
       "      <td>2</td>\n",
       "      <td>52</td>\n",
       "      <td>43.216644</td>\n",
       "      <td>50.416682</td>\n",
       "    </tr>\n",
       "    <tr>\n",
       "      <th>3</th>\n",
       "      <td>3</td>\n",
       "      <td>46</td>\n",
       "      <td>40.502358</td>\n",
       "      <td>52.416682</td>\n",
       "    </tr>\n",
       "    <tr>\n",
       "      <th>4</th>\n",
       "      <td>4</td>\n",
       "      <td>23</td>\n",
       "      <td>42.359501</td>\n",
       "      <td>51.416682</td>\n",
       "    </tr>\n",
       "    <tr>\n",
       "      <th>5</th>\n",
       "      <td>5</td>\n",
       "      <td>24</td>\n",
       "      <td>42.788072</td>\n",
       "      <td>50.988111</td>\n",
       "    </tr>\n",
       "  </tbody>\n",
       "</table>\n",
       "</div>"
      ],
      "text/plain": [
       "   week  tweets    approve  disapprove\n",
       "1     1      41  43.359501   49.416682\n",
       "2     2      52  43.216644   50.416682\n",
       "3     3      46  40.502358   52.416682\n",
       "4     4      23  42.359501   51.416682\n",
       "5     5      24  42.788072   50.988111"
      ]
     },
     "execution_count": 11,
     "metadata": {},
     "output_type": "execute_result"
    }
   ],
   "source": [
    "weekly = pd.DataFrame(index = range(1, tweet_data['week'].max() + 1))\n",
    "\n",
    "def add_week_col(df):\n",
    "    return df.iloc[0]['week']\n",
    "\n",
    "weekly['week'] = tweet_data.groupby('week').apply(add_week_col)\n",
    "\n",
    "def sum_tweets(df):\n",
    "    return len(df.index)\n",
    "\n",
    "weekly['tweets'] = tweet_data.groupby('week').apply(sum_tweets)\n",
    "\n",
    "def avg_approval(df):\n",
    "    return df['approve'].mean()\n",
    "\n",
    "weekly['approve'] = approval_data.groupby('week').apply(avg_approval)\n",
    "\n",
    "def avg_disapproval(df):\n",
    "    return df['disapprove'].mean()\n",
    "\n",
    "weekly['disapprove'] = approval_data.groupby('week').apply(avg_disapproval)\n",
    "\n",
    "weekly.head()"
   ]
  },
  {
   "cell_type": "markdown",
   "metadata": {},
   "source": [
    "Since our hypothesis is measuring how the number of tweets affects his approval rating, we'll want ot measure it based on change from week to week. To do this, we'll add a final column representing the net change from the last week. We do this with the `shift()` method that allows us to subtract the current week from the last week"
   ]
  },
  {
   "cell_type": "code",
   "execution_count": 12,
   "metadata": {},
   "outputs": [
    {
     "data": {
      "text/html": [
       "<div>\n",
       "<style scoped>\n",
       "    .dataframe tbody tr th:only-of-type {\n",
       "        vertical-align: middle;\n",
       "    }\n",
       "\n",
       "    .dataframe tbody tr th {\n",
       "        vertical-align: top;\n",
       "    }\n",
       "\n",
       "    .dataframe thead th {\n",
       "        text-align: right;\n",
       "    }\n",
       "</style>\n",
       "<table border=\"1\" class=\"dataframe\">\n",
       "  <thead>\n",
       "    <tr style=\"text-align: right;\">\n",
       "      <th></th>\n",
       "      <th>week</th>\n",
       "      <th>tweets</th>\n",
       "      <th>approve</th>\n",
       "      <th>disapprove</th>\n",
       "      <th>approve_change</th>\n",
       "    </tr>\n",
       "  </thead>\n",
       "  <tbody>\n",
       "    <tr>\n",
       "      <th>1</th>\n",
       "      <td>1</td>\n",
       "      <td>41</td>\n",
       "      <td>43.359501</td>\n",
       "      <td>49.416682</td>\n",
       "      <td>NaN</td>\n",
       "    </tr>\n",
       "    <tr>\n",
       "      <th>2</th>\n",
       "      <td>2</td>\n",
       "      <td>52</td>\n",
       "      <td>43.216644</td>\n",
       "      <td>50.416682</td>\n",
       "      <td>-0.142857</td>\n",
       "    </tr>\n",
       "    <tr>\n",
       "      <th>3</th>\n",
       "      <td>3</td>\n",
       "      <td>46</td>\n",
       "      <td>40.502358</td>\n",
       "      <td>52.416682</td>\n",
       "      <td>-2.714286</td>\n",
       "    </tr>\n",
       "    <tr>\n",
       "      <th>4</th>\n",
       "      <td>4</td>\n",
       "      <td>23</td>\n",
       "      <td>42.359501</td>\n",
       "      <td>51.416682</td>\n",
       "      <td>1.857143</td>\n",
       "    </tr>\n",
       "    <tr>\n",
       "      <th>5</th>\n",
       "      <td>5</td>\n",
       "      <td>24</td>\n",
       "      <td>42.788072</td>\n",
       "      <td>50.988111</td>\n",
       "      <td>0.428571</td>\n",
       "    </tr>\n",
       "  </tbody>\n",
       "</table>\n",
       "</div>"
      ],
      "text/plain": [
       "   week  tweets    approve  disapprove  approve_change\n",
       "1     1      41  43.359501   49.416682             NaN\n",
       "2     2      52  43.216644   50.416682       -0.142857\n",
       "3     3      46  40.502358   52.416682       -2.714286\n",
       "4     4      23  42.359501   51.416682        1.857143\n",
       "5     5      24  42.788072   50.988111        0.428571"
      ]
     },
     "execution_count": 12,
     "metadata": {},
     "output_type": "execute_result"
    }
   ],
   "source": [
    "weekly['approve_change'] = weekly['approve'] - weekly['approve'].shift()\n",
    "weekly.head()"
   ]
  },
  {
   "cell_type": "markdown",
   "metadata": {},
   "source": [
    "## Exploratory stats\n",
    "\n",
    "We have our weekly data, so let's start exploring it! How many times does Trump per week on average?"
   ]
  },
  {
   "cell_type": "code",
   "execution_count": 13,
   "metadata": {},
   "outputs": [
    {
     "data": {
      "text/plain": [
       "50.03125"
      ]
     },
     "execution_count": 13,
     "metadata": {},
     "output_type": "execute_result"
    }
   ],
   "source": [
    "weekly['tweets'].mean()"
   ]
  },
  {
   "cell_type": "markdown",
   "metadata": {},
   "source": [
    "What about the median?"
   ]
  },
  {
   "cell_type": "code",
   "execution_count": 14,
   "metadata": {},
   "outputs": [
    {
     "data": {
      "text/plain": [
       "48.0"
      ]
     },
     "execution_count": 14,
     "metadata": {},
     "output_type": "execute_result"
    }
   ],
   "source": [
    "weekly['tweets'].median()"
   ]
  },
  {
   "cell_type": "markdown",
   "metadata": {},
   "source": [
    "As you can see the median and mean are relatively close, so the data shouldn't be skewed in one direction or the other if we graphed them.\n",
    "\n",
    "Average approval rating?"
   ]
  },
  {
   "cell_type": "code",
   "execution_count": 15,
   "metadata": {},
   "outputs": [
    {
     "data": {
      "text/plain": [
       "40.035505178571434"
      ]
     },
     "execution_count": 15,
     "metadata": {},
     "output_type": "execute_result"
    }
   ],
   "source": [
    "weekly['approve'].mean()"
   ]
  },
  {
   "cell_type": "markdown",
   "metadata": {},
   "source": [
    "What about disapproval?"
   ]
  },
  {
   "cell_type": "code",
   "execution_count": 16,
   "metadata": {},
   "outputs": [
    {
     "data": {
      "text/plain": [
       "53.658720833333341"
      ]
     },
     "execution_count": 16,
     "metadata": {},
     "output_type": "execute_result"
    }
   ],
   "source": [
    "weekly['disapprove'].mean()"
   ]
  },
  {
   "cell_type": "markdown",
   "metadata": {},
   "source": [
    "## Visualization\n",
    "\n",
    "Now that we have our weekly data agregates we can start visualizing our data and see some meaningful relationships and interesting tidbits. Visualization is important because it allows us to quickly see generalizations. We can see if relationships exists or not and if we should continue exploring in more detail or move on to a different hypothesis.\n",
    "\n",
    "Let's start off by visualizing Trump's tweeting habits. Is he more or less active as his term goes on?\n",
    "\n",
    "Seaborn makes visualizations super easy. We can supply a x column index and a y column index along with the dataframe we want to use, and it'll visualize it with ease.\n",
    "\n",
    "Here we'll make a simple scatter plot with the `relplot()` command."
   ]
  },
  {
   "cell_type": "code",
   "execution_count": 17,
   "metadata": {},
   "outputs": [
    {
     "data": {
      "text/plain": [
       "<seaborn.axisgrid.FacetGrid at 0x7fb3fb870dd8>"
      ]
     },
     "execution_count": 17,
     "metadata": {},
     "output_type": "execute_result"
    }
   ],
   "source": [
    "import seaborn as sns\n",
    "sns.relplot(x = 'week', y = 'tweets', data = weekly)"
   ]
  },
  {
   "cell_type": "markdown",
   "metadata": {},
   "source": [
    "There seems to be a significant positive correlation. We can add a regression line to our graph by slightly modifying the seaborn command to `lmplot()`."
   ]
  },
  {
   "cell_type": "code",
   "execution_count": 18,
   "metadata": {},
   "outputs": [
    {
     "data": {
      "text/plain": [
       "<seaborn.axisgrid.FacetGrid at 0x7fb3f90a5048>"
      ]
     },
     "execution_count": 18,
     "metadata": {},
     "output_type": "execute_result"
    },
    {
     "data": {
      "image/png": "[encoded data removed]",
      "text/plain": [
       "<Figure size 360x360 with 1 Axes>"
      ]
     },
     "metadata": {},
     "output_type": "display_data"
    }
   ],
   "source": [
    "sns.lmplot(x = 'week', y = 'tweets', data = weekly)"
   ]
  },
  {
   "cell_type": "markdown",
   "metadata": {},
   "source": [
    "Let's also graph his weekly average approval rating"
   ]
  },
  {
   "cell_type": "code",
   "execution_count": 19,
   "metadata": {
    "scrolled": true
   },
   "outputs": [
    {
     "data": {
      "text/plain": [
       "<seaborn.axisgrid.FacetGrid at 0x7fb3f8fe6c50>"
      ]
     },
     "execution_count": 19,
     "metadata": {},
     "output_type": "execute_result"
    },
    {
     "data": {
      "image/png": "[encoded data removed]",
      "text/plain": [
       "<Figure size 360x360 with 1 Axes>"
      ]
     },
     "metadata": {},
     "output_type": "display_data"
    }
   ],
   "source": [
    "sns.relplot(x = 'week', y = 'approve', data = weekly)"
   ]
  },
  {
   "cell_type": "markdown",
   "metadata": {},
   "source": [
    "As you can see, his approval rating dips about half a year into his term, then starts to recover to his original ratings.\n",
    "\n",
    "# First Hypothesis\n",
    "After those initial visualizations, we get into what we really want to see. Is there a relationship between Trump's change in approval rating to his tweet frequency?\n",
    "\n",
    "This can be formalized in a [hypothesis](http://mathworld.wolfram.com/HypothesisTesting.html). We want to create two hypothesis a \"null\" and \"alternate\" hypothesis. The null hypothesis represents the status quo \"Trump's approval rating does not affect his tweet frequency\". And the alternate hypothesis is a contradictory statement \"A decrease in Trump's net approval rating causes him to tweet more frequently in a week\".\n",
    "\n",
    "Only if we find such a relation can we confidently reject the null hypothesis."
   ]
  },
  {
   "cell_type": "code",
   "execution_count": 20,
   "metadata": {},
   "outputs": [
    {
     "data": {
      "text/plain": [
       "<seaborn.axisgrid.FacetGrid at 0x7fb3f8fae4e0>"
      ]
     },
     "execution_count": 20,
     "metadata": {},
     "output_type": "execute_result"
    },
    {
     "data": {
      "image/png": "[encoded data removed]",
      "text/plain": [
       "<Figure size 360x360 with 1 Axes>"
      ]
     },
     "metadata": {},
     "output_type": "display_data"
    }
   ],
   "source": [
    "sns.lmplot(x = 'approve_change', y = 'tweets', data = weekly)"
   ]
  },
  {
   "cell_type": "markdown",
   "metadata": {},
   "source": [
    "Upon first glance there seems to be a very slight negative trend, supporting our hypothesis. But is the trend large enough to reject the null hypothesis?\n",
    "\n",
    "Certainly it is worth exploring more. To paint a more accurate picture we will [standardize](https://en.wikipedia.org/wiki/Standard_score) our tweet variable. This means we will express the number our tweets not just as raw frequency, but as the number of [standard deviations](https://en.wikipedia.org/wiki/Standard_deviation) away it is from the average number of tweets.\n",
    "\n",
    "To do that we want to subtract the value from the average and devide it by the standard deviation.\n",
    "\n",
    "Then we graph it again."
   ]
  },
  {
   "cell_type": "code",
   "execution_count": 21,
   "metadata": {},
   "outputs": [
    {
     "data": {
      "text/plain": [
       "<seaborn.axisgrid.FacetGrid at 0x7fb3f8f1cc88>"
      ]
     },
     "execution_count": 21,
     "metadata": {},
     "output_type": "execute_result"
    },
    {
     "data": {
      "image/png": "[encoded data removed]",
      "text/plain": [
       "<Figure size 360x360 with 1 Axes>"
      ]
     },
     "metadata": {},
     "output_type": "display_data"
    }
   ],
   "source": [
    "avg = weekly['tweets'].mean()\n",
    "stan_dev = weekly['tweets'].std()\n",
    "weekly['tweets_stan'] = (weekly['tweets'] - avg) / stan_dev\n",
    "sns.lmplot(x = 'approve_change', y = 'tweets_stan', data = weekly)"
   ]
  },
  {
   "cell_type": "markdown",
   "metadata": {},
   "source": [
    "While there is a trend line, the values have a huge ammount of variation. Values at most values of x are within + and - 2 standard devations away. While it may be a slightly interesting generalization, it is not enough to prove a causaul relataionship and predict future tweet frequency, therefore we cannot confidently reject out null hypothisis.\n",
    "\n",
    "But, alas, we are not done yet! Maybe weekly statistics are too long to generate a meaningful behavioral reaction. Instead let's focus on daily data.\n",
    "\n",
    "This process looks a lot like what we did before with our weekly agregates, but this time, instead of weeks since the inarguation, it's days since."
   ]
  },
  {
   "cell_type": "code",
   "execution_count": 22,
   "metadata": {},
   "outputs": [],
   "source": [
    "daily = pd.DataFrame(index = range(1, \n",
    "                (approval_data['date'].max() - inarguation).days + 1))"
   ]
  },
  {
   "cell_type": "markdown",
   "metadata": {},
   "source": [
    "The provided dataset contains several posts finished on the same day, so we will take the average of those two polls and save the result in our dataset."
   ]
  },
  {
   "cell_type": "code",
   "execution_count": 23,
   "metadata": {},
   "outputs": [
    {
     "data": {
      "text/html": [
       "<div>\n",
       "<style scoped>\n",
       "    .dataframe tbody tr th:only-of-type {\n",
       "        vertical-align: middle;\n",
       "    }\n",
       "\n",
       "    .dataframe tbody tr th {\n",
       "        vertical-align: top;\n",
       "    }\n",
       "\n",
       "    .dataframe thead th {\n",
       "        text-align: right;\n",
       "    }\n",
       "</style>\n",
       "<table border=\"1\" class=\"dataframe\">\n",
       "  <thead>\n",
       "    <tr style=\"text-align: right;\">\n",
       "      <th></th>\n",
       "      <th>approve</th>\n",
       "      <th>disapprove</th>\n",
       "      <th>week</th>\n",
       "      <th>day</th>\n",
       "    </tr>\n",
       "  </thead>\n",
       "  <tbody>\n",
       "    <tr>\n",
       "      <th>1</th>\n",
       "      <td>NaN</td>\n",
       "      <td>NaN</td>\n",
       "      <td>NaN</td>\n",
       "      <td>NaN</td>\n",
       "    </tr>\n",
       "    <tr>\n",
       "      <th>2</th>\n",
       "      <td>45.645215</td>\n",
       "      <td>43.273825</td>\n",
       "      <td>0.0</td>\n",
       "      <td>2.0</td>\n",
       "    </tr>\n",
       "    <tr>\n",
       "      <th>3</th>\n",
       "      <td>45.645215</td>\n",
       "      <td>44.273825</td>\n",
       "      <td>0.0</td>\n",
       "      <td>3.0</td>\n",
       "    </tr>\n",
       "    <tr>\n",
       "      <th>4</th>\n",
       "      <td>46.645215</td>\n",
       "      <td>43.273825</td>\n",
       "      <td>0.0</td>\n",
       "      <td>4.0</td>\n",
       "    </tr>\n",
       "    <tr>\n",
       "      <th>5</th>\n",
       "      <td>46.645215</td>\n",
       "      <td>43.273825</td>\n",
       "      <td>0.0</td>\n",
       "      <td>5.0</td>\n",
       "    </tr>\n",
       "  </tbody>\n",
       "</table>\n",
       "</div>"
      ],
      "text/plain": [
       "     approve  disapprove  week  day\n",
       "1        NaN         NaN   NaN  NaN\n",
       "2  45.645215   43.273825   0.0  2.0\n",
       "3  45.645215   44.273825   0.0  3.0\n",
       "4  46.645215   43.273825   0.0  4.0\n",
       "5  46.645215   43.273825   0.0  5.0"
      ]
     },
     "execution_count": 23,
     "metadata": {},
     "output_type": "execute_result"
    }
   ],
   "source": [
    "# So we want to take the average of those\n",
    "def check(df):\n",
    "    if len(df.index) > 1:\n",
    "        print(\"More than one\")\n",
    "\n",
    "# Check if there is more than one poll per day\n",
    "def combine(df):\n",
    "    return df.mean()\n",
    "\n",
    "def add_day(series):\n",
    "    series['day'] = (series['date'] - inarguation).days\n",
    "    return series\n",
    "\n",
    "approval_data = approval_data.apply(add_day, axis = 1)\n",
    "tweet_data = tweet_data.apply(add_day, axis = 1)\n",
    "\n",
    "combined = approval_data.groupby('day').apply(combine)\n",
    "\n",
    "daily = daily.join(combined, how = 'outer')\n",
    "daily.head()"
   ]
  },
  {
   "cell_type": "markdown",
   "metadata": {},
   "source": [
    "There will still be lag over Trump's approval rating to his behavior, but that's okay. From the approval rating we want to campture the overal attitude of the country, and a potential cloud hanging over Trump's attitude. So to do this we can check the net change in approval rating over the last three days, so we again use the `shift()` method-- this time with a value of 3."
   ]
  },
  {
   "cell_type": "code",
   "execution_count": 24,
   "metadata": {},
   "outputs": [
    {
     "data": {
      "text/html": [
       "<div>\n",
       "<style scoped>\n",
       "    .dataframe tbody tr th:only-of-type {\n",
       "        vertical-align: middle;\n",
       "    }\n",
       "\n",
       "    .dataframe tbody tr th {\n",
       "        vertical-align: top;\n",
       "    }\n",
       "\n",
       "    .dataframe thead th {\n",
       "        text-align: right;\n",
       "    }\n",
       "</style>\n",
       "<table border=\"1\" class=\"dataframe\">\n",
       "  <thead>\n",
       "    <tr style=\"text-align: right;\">\n",
       "      <th></th>\n",
       "      <th>approve</th>\n",
       "      <th>disapprove</th>\n",
       "      <th>week</th>\n",
       "      <th>day</th>\n",
       "      <th>three_day</th>\n",
       "      <th>tweets</th>\n",
       "    </tr>\n",
       "  </thead>\n",
       "  <tbody>\n",
       "    <tr>\n",
       "      <th>1</th>\n",
       "      <td>NaN</td>\n",
       "      <td>NaN</td>\n",
       "      <td>NaN</td>\n",
       "      <td>NaN</td>\n",
       "      <td>NaN</td>\n",
       "      <td>2.0</td>\n",
       "    </tr>\n",
       "    <tr>\n",
       "      <th>2</th>\n",
       "      <td>45.645215</td>\n",
       "      <td>43.273825</td>\n",
       "      <td>0.0</td>\n",
       "      <td>2.0</td>\n",
       "      <td>NaN</td>\n",
       "      <td>4.0</td>\n",
       "    </tr>\n",
       "    <tr>\n",
       "      <th>3</th>\n",
       "      <td>45.645215</td>\n",
       "      <td>44.273825</td>\n",
       "      <td>0.0</td>\n",
       "      <td>3.0</td>\n",
       "      <td>NaN</td>\n",
       "      <td>1.0</td>\n",
       "    </tr>\n",
       "    <tr>\n",
       "      <th>4</th>\n",
       "      <td>46.645215</td>\n",
       "      <td>43.273825</td>\n",
       "      <td>0.0</td>\n",
       "      <td>4.0</td>\n",
       "      <td>NaN</td>\n",
       "      <td>4.0</td>\n",
       "    </tr>\n",
       "    <tr>\n",
       "      <th>5</th>\n",
       "      <td>46.645215</td>\n",
       "      <td>43.273825</td>\n",
       "      <td>0.0</td>\n",
       "      <td>5.0</td>\n",
       "      <td>1.0</td>\n",
       "      <td>8.0</td>\n",
       "    </tr>\n",
       "  </tbody>\n",
       "</table>\n",
       "</div>"
      ],
      "text/plain": [
       "     approve  disapprove  week  day  three_day  tweets\n",
       "1        NaN         NaN   NaN  NaN        NaN     2.0\n",
       "2  45.645215   43.273825   0.0  2.0        NaN     4.0\n",
       "3  45.645215   44.273825   0.0  3.0        NaN     1.0\n",
       "4  46.645215   43.273825   0.0  4.0        NaN     4.0\n",
       "5  46.645215   43.273825   0.0  5.0        1.0     8.0"
      ]
     },
     "execution_count": 24,
     "metadata": {},
     "output_type": "execute_result"
    }
   ],
   "source": [
    "daily['three_day'] = daily['approve'] - daily['approve'].shift(3)\n",
    "\n",
    "def sum_tweets(df):\n",
    "    return len(df.index)\n",
    "\n",
    "daily_tweets = tweet_data.groupby('day').apply(sum_tweets)\n",
    "\n",
    "daily['tweets'] = daily_tweets\n",
    "daily.head()\n"
   ]
  },
  {
   "cell_type": "markdown",
   "metadata": {},
   "source": [
    "Now we have our daily agregates and three day net approval change and we can graph the relationship and hope to find something worth exploring."
   ]
  },
  {
   "cell_type": "code",
   "execution_count": 25,
   "metadata": {},
   "outputs": [
    {
     "data": {
      "text/plain": [
       "<seaborn.axisgrid.FacetGrid at 0x7fb3f8f78320>"
      ]
     },
     "execution_count": 25,
     "metadata": {},
     "output_type": "execute_result"
    },
    {
     "data": {
      "image/png": "[encoded data removed]",
      "text/plain": [
       "<Figure size 360x360 with 1 Axes>"
      ]
     },
     "metadata": {},
     "output_type": "display_data"
    }
   ],
   "source": [
    "sns.lmplot(x = 'three_day', y = 'tweets', data = daily)"
   ]
  },
  {
   "cell_type": "markdown",
   "metadata": {},
   "source": [
    "Unforuntely, still nothing. But that's okay! Because the relationship didn't exist, but we were careful and scientific about our findings. The results didn't align with our hypothesis, but that is an important result in itself.\n",
    "\n",
    "So I think it is safe to say we cannot reject our null hypothesis, and Trump's twitter behavior is not affected by his approval rating.\n",
    "\n",
    "# Hypothesis Two\n",
    "\n",
    "Let's move on to a second hypothesis this time focusing on Trump late night twitter habits. When things aren't going Trump's way does it trigger some late night twitter rants?\n",
    "\n",
    "Again, let's set up a formal null and alternate hypothesis representing the status quo and otherwise. \"Donald Trump's approval rating does not affect the frequency he tweets between the hours of midnight and 4am.\" is the null hypothesis and the alternate hypothesis is \"There is a negative realtionship between Donald Trump's approval rating and the ammount he tweets between midnight and 4am\".\n",
    "\n",
    "Let's start off by applying a filter to our tweet data to sum the ammount of tweets after midnight on any given day. When we apply this function to a our tweet data grouped by day it will return a dataframe indexed by the day containing the sum of post-midnight tweets. We then combine this dataframe to our original daily agregate dataframe. But since there is a significant ammount of missing rows, but we want to keep those rows, we will use the dataframe's join function. By specifying the join as 'outer' we are not losing any data, whereas if we chose 'inner' we would be losing the most data as that can be thought of as a mutally exclusive opeprate. You can learn more about the different kinds of joins and how they relate to set theory here [LINK](https://www.w3schools.com/sql/sql_join.asp)."
   ]
  },
  {
   "cell_type": "code",
   "execution_count": 26,
   "metadata": {
    "scrolled": true
   },
   "outputs": [
    {
     "data": {
      "text/html": [
       "<div>\n",
       "<style scoped>\n",
       "    .dataframe tbody tr th:only-of-type {\n",
       "        vertical-align: middle;\n",
       "    }\n",
       "\n",
       "    .dataframe tbody tr th {\n",
       "        vertical-align: top;\n",
       "    }\n",
       "\n",
       "    .dataframe thead th {\n",
       "        text-align: right;\n",
       "    }\n",
       "</style>\n",
       "<table border=\"1\" class=\"dataframe\">\n",
       "  <thead>\n",
       "    <tr style=\"text-align: right;\">\n",
       "      <th></th>\n",
       "      <th>approve</th>\n",
       "      <th>disapprove</th>\n",
       "      <th>week</th>\n",
       "      <th>day</th>\n",
       "      <th>three_day</th>\n",
       "      <th>tweets</th>\n",
       "      <th>midnight_tweets</th>\n",
       "    </tr>\n",
       "  </thead>\n",
       "  <tbody>\n",
       "    <tr>\n",
       "      <th>0</th>\n",
       "      <td>NaN</td>\n",
       "      <td>NaN</td>\n",
       "      <td>NaN</td>\n",
       "      <td>NaN</td>\n",
       "      <td>NaN</td>\n",
       "      <td>NaN</td>\n",
       "      <td>1.0</td>\n",
       "    </tr>\n",
       "    <tr>\n",
       "      <th>1</th>\n",
       "      <td>NaN</td>\n",
       "      <td>NaN</td>\n",
       "      <td>NaN</td>\n",
       "      <td>NaN</td>\n",
       "      <td>NaN</td>\n",
       "      <td>2.0</td>\n",
       "      <td>0.0</td>\n",
       "    </tr>\n",
       "    <tr>\n",
       "      <th>2</th>\n",
       "      <td>45.645215</td>\n",
       "      <td>43.273825</td>\n",
       "      <td>0.0</td>\n",
       "      <td>2.0</td>\n",
       "      <td>NaN</td>\n",
       "      <td>4.0</td>\n",
       "      <td>0.0</td>\n",
       "    </tr>\n",
       "    <tr>\n",
       "      <th>3</th>\n",
       "      <td>45.645215</td>\n",
       "      <td>44.273825</td>\n",
       "      <td>0.0</td>\n",
       "      <td>3.0</td>\n",
       "      <td>NaN</td>\n",
       "      <td>1.0</td>\n",
       "      <td>0.0</td>\n",
       "    </tr>\n",
       "    <tr>\n",
       "      <th>4</th>\n",
       "      <td>46.645215</td>\n",
       "      <td>43.273825</td>\n",
       "      <td>0.0</td>\n",
       "      <td>4.0</td>\n",
       "      <td>NaN</td>\n",
       "      <td>4.0</td>\n",
       "      <td>0.0</td>\n",
       "    </tr>\n",
       "    <tr>\n",
       "      <th>5</th>\n",
       "      <td>46.645215</td>\n",
       "      <td>43.273825</td>\n",
       "      <td>0.0</td>\n",
       "      <td>5.0</td>\n",
       "      <td>1.0</td>\n",
       "      <td>8.0</td>\n",
       "      <td>4.0</td>\n",
       "    </tr>\n",
       "    <tr>\n",
       "      <th>6</th>\n",
       "      <td>45.645215</td>\n",
       "      <td>46.273825</td>\n",
       "      <td>0.0</td>\n",
       "      <td>6.0</td>\n",
       "      <td>0.0</td>\n",
       "      <td>11.0</td>\n",
       "      <td>4.0</td>\n",
       "    </tr>\n",
       "    <tr>\n",
       "      <th>7</th>\n",
       "      <td>42.645215</td>\n",
       "      <td>48.273825</td>\n",
       "      <td>1.0</td>\n",
       "      <td>7.0</td>\n",
       "      <td>-4.0</td>\n",
       "      <td>7.0</td>\n",
       "      <td>0.0</td>\n",
       "    </tr>\n",
       "    <tr>\n",
       "      <th>8</th>\n",
       "      <td>42.645215</td>\n",
       "      <td>49.273825</td>\n",
       "      <td>1.0</td>\n",
       "      <td>8.0</td>\n",
       "      <td>-4.0</td>\n",
       "      <td>5.0</td>\n",
       "      <td>0.0</td>\n",
       "    </tr>\n",
       "    <tr>\n",
       "      <th>9</th>\n",
       "      <td>43.645215</td>\n",
       "      <td>48.273825</td>\n",
       "      <td>1.0</td>\n",
       "      <td>9.0</td>\n",
       "      <td>-2.0</td>\n",
       "      <td>7.0</td>\n",
       "      <td>0.0</td>\n",
       "    </tr>\n",
       "  </tbody>\n",
       "</table>\n",
       "</div>"
      ],
      "text/plain": [
       "     approve  disapprove  week  day  three_day  tweets  midnight_tweets\n",
       "0        NaN         NaN   NaN  NaN        NaN     NaN              1.0\n",
       "1        NaN         NaN   NaN  NaN        NaN     2.0              0.0\n",
       "2  45.645215   43.273825   0.0  2.0        NaN     4.0              0.0\n",
       "3  45.645215   44.273825   0.0  3.0        NaN     1.0              0.0\n",
       "4  46.645215   43.273825   0.0  4.0        NaN     4.0              0.0\n",
       "5  46.645215   43.273825   0.0  5.0        1.0     8.0              4.0\n",
       "6  45.645215   46.273825   0.0  6.0        0.0    11.0              4.0\n",
       "7  42.645215   48.273825   1.0  7.0       -4.0     7.0              0.0\n",
       "8  42.645215   49.273825   1.0  8.0       -4.0     5.0              0.0\n",
       "9  43.645215   48.273825   1.0  9.0       -2.0     7.0              0.0"
      ]
     },
     "execution_count": 26,
     "metadata": {},
     "output_type": "execute_result"
    }
   ],
   "source": [
    "def after_midnight(df):\n",
    "    df = df.set_index('date')\n",
    "    midnight = df.between_time('00:00', '4:00')\n",
    "    return pd.Series({'midnight_tweets': len(midnight.index)})\n",
    "\n",
    "midnight = tweet_data.groupby('day').apply(after_midnight)\n",
    "daily = daily.join(midnight, how = 'outer')\n",
    "\n",
    "daily.head(10)\n"
   ]
  },
  {
   "cell_type": "markdown",
   "metadata": {},
   "source": [
    "Now we have our data let's visualize it and see if it we can interpret a relationship rejecting our null hypothesis."
   ]
  },
  {
   "cell_type": "code",
   "execution_count": 27,
   "metadata": {},
   "outputs": [
    {
     "data": {
      "text/plain": [
       "<seaborn.axisgrid.FacetGrid at 0x7fb3f8faef98>"
      ]
     },
     "execution_count": 27,
     "metadata": {},
     "output_type": "execute_result"
    },
    {
     "data": {
      "image/png": "[encoded data removed]",
      "text/plain": [
       "<Figure size 360x360 with 1 Axes>"
      ]
     },
     "metadata": {},
     "output_type": "display_data"
    }
   ],
   "source": [
    "sns.lmplot(x = 'three_day', y = 'midnight_tweets', data = daily)"
   ]
  },
  {
   "cell_type": "markdown",
   "metadata": {},
   "source": [
    "As you can see in the graph, there is relatively no relationship. Infact, there is the slightest of positive relationships, although not significant, but our alternate hypothesis predicted a negative relationship. Therefore we are unable to reject our null hypothesis.\n",
    "\n",
    "Thus far we have been unable to reject three null hypothesis. Does this imply a failure on our part? Absolutely not, because each hypothesis test still provides important information about Trump's behavior. After three seperate hypothesis test it is fair to say that Trump's tweeting habits are not tied to his approval rating.\n",
    "\n",
    "And that provides an important insight into the social science of the presidency. It may provide a legitimate rebuke to the critiscms that Trump's twitter is an emotional, reactionary, regrettful medium. And provide an argument in favor of the idea that having a direct connection to the presidents mind its a benefit without the intutive negative effects. Do these hyptohesis tests provide a full argument? No, but do they help provide details into a fully fleshed out argument? Absolutely.\n",
    "\n",
    "# But we're not done yet- Sentiment analysis\n",
    "\n",
    "Can Trump's twitter, and the speicific contents of his tweets be used as a tool? Approval rating is not the only metric to measure consitutents. What about Trump's base itself, the people who already support him? There is political merrit in keeping that base motivated and excited. It helps provide political capital for policy agenda, but also helps turn out the vote in different elections like local and midterm elections. A fired up, passionate base is more likely to get out of bed to vote. \n",
    "\n",
    "So it begs the question, are Trumps tweets helping motivate his base. Specifically, are the afforementioned negative tweets helping motivate his base. The tweets that seem unessarilly rude, or emotional, or flat out immature. Tweet's that use \"colorful\" language and poke out Trump's favorite boogeymen like Hilary Clinton and the \"Fake news\" media. Are tweets about these scapegoats popular among his base? To measure this we'll analyze the number of favorites his tweets get. While a clearly imperfect metric, the ammount of favorite one tweets gets relative to another can provide a powerful metric of comparison of exactly what tweets affect his base in what ways.\n",
    "\n",
    "Let's answer that question through two hypothesis measuring how his base reacts to more negative or positive tweets, and if the frequency of specifc keywords influences the base's reaction.\n",
    "\n",
    "We will be using a useful library called textblob for [sentiment analysis](https://en.wikipedia.org/wiki/Sentiment_analysis). TextBlob allows us to input a message, wether it be a phrase, sentence, or several sentences-- and will return back to us a score between -1 and 1. A score of -1 is the most negative while a score a +1 is the most positive.\n",
    "\n",
    "[Pip](https://pypi.org/project/pip/) python package manager makes it easy to install packages. If you're following along in a jupyter notice add a `!` before your command to run it as a shell command. Along with textblob we'll also need to download a corpus to be able to take advantage of the sentiment analysis features. A corpus is a large dataset containing prelabeled natural langauge. TextBlob uses these examples to conduct it's analysis."
   ]
  },
  {
   "cell_type": "code",
   "execution_count": 28,
   "metadata": {},
   "outputs": [
    {
     "name": "stdout",
     "output_type": "stream",
     "text": [
      "Requirement already up-to-date: textblob in /opt/conda/lib/python3.6/site-packages\n",
      "Requirement already up-to-date: nltk>=3.1 in /opt/conda/lib/python3.6/site-packages (from textblob)\n",
      "Requirement already up-to-date: six in /opt/conda/lib/python3.6/site-packages (from nltk>=3.1->textblob)\n",
      "Requirement already up-to-date: singledispatch in /opt/conda/lib/python3.6/site-packages (from nltk>=3.1->textblob)\n",
      "\u001b[33mYou are using pip version 9.0.3, however version 18.1 is available.\n",
      "You should consider upgrading via the 'pip install --upgrade pip' command.\u001b[0m\n",
      "[nltk_data] Downloading package brown to /home/jovyan/nltk_data...\n",
      "[nltk_data]   Package brown is already up-to-date!\n",
      "[nltk_data] Downloading package punkt to /home/jovyan/nltk_data...\n",
      "[nltk_data]   Package punkt is already up-to-date!\n",
      "[nltk_data] Downloading package wordnet to /home/jovyan/nltk_data...\n",
      "[nltk_data]   Package wordnet is already up-to-date!\n",
      "[nltk_data] Downloading package averaged_perceptron_tagger to\n",
      "[nltk_data]     /home/jovyan/nltk_data...\n",
      "[nltk_data]   Package averaged_perceptron_tagger is already up-to-\n",
      "[nltk_data]       date!\n",
      "[nltk_data] Downloading package conll2000 to /home/jovyan/nltk_data...\n",
      "[nltk_data]   Package conll2000 is already up-to-date!\n",
      "[nltk_data] Downloading package movie_reviews to\n",
      "[nltk_data]     /home/jovyan/nltk_data...\n",
      "[nltk_data]   Package movie_reviews is already up-to-date!\n",
      "Finished.\n"
     ]
    }
   ],
   "source": [
    "!pip install -U textblob\n",
    "!python -m textblob.download_corpora"
   ]
  },
  {
   "cell_type": "markdown",
   "metadata": {},
   "source": [
    "With TextBlob installed we'll want to add sentiment metrics for each tweet. We'll add the raw metrix along with a boolean variable to measure if the tweet is over positive or not, because it will be intersting to see what ratio of Trump's positivity."
   ]
  },
  {
   "cell_type": "code",
   "execution_count": 29,
   "metadata": {},
   "outputs": [
    {
     "data": {
      "text/html": [
       "<div>\n",
       "<style scoped>\n",
       "    .dataframe tbody tr th:only-of-type {\n",
       "        vertical-align: middle;\n",
       "    }\n",
       "\n",
       "    .dataframe tbody tr th {\n",
       "        vertical-align: top;\n",
       "    }\n",
       "\n",
       "    .dataframe thead th {\n",
       "        text-align: right;\n",
       "    }\n",
       "</style>\n",
       "<table border=\"1\" class=\"dataframe\">\n",
       "  <thead>\n",
       "    <tr style=\"text-align: right;\">\n",
       "      <th></th>\n",
       "      <th>text</th>\n",
       "      <th>date</th>\n",
       "      <th>favorites</th>\n",
       "      <th>week</th>\n",
       "      <th>day</th>\n",
       "      <th>sentiment</th>\n",
       "      <th>is_positive</th>\n",
       "    </tr>\n",
       "  </thead>\n",
       "  <tbody>\n",
       "    <tr>\n",
       "      <th>90</th>\n",
       "      <td>We have been working hard on this - and it’s o...</td>\n",
       "      <td>2018-11-29 22:47:59</td>\n",
       "      <td>45752</td>\n",
       "      <td>96</td>\n",
       "      <td>678</td>\n",
       "      <td>0.111111</td>\n",
       "      <td>True</td>\n",
       "    </tr>\n",
       "    <tr>\n",
       "      <th>91</th>\n",
       "      <td>With all of the new books coming out you can't...</td>\n",
       "      <td>2018-11-29 22:43:12</td>\n",
       "      <td>52008</td>\n",
       "      <td>96</td>\n",
       "      <td>678</td>\n",
       "      <td>0.568182</td>\n",
       "      <td>True</td>\n",
       "    </tr>\n",
       "    <tr>\n",
       "      <th>92</th>\n",
       "      <td>.@DBongino’s new book \"Spygate: The Attempted ...</td>\n",
       "      <td>2018-11-29 22:34:18</td>\n",
       "      <td>65812</td>\n",
       "      <td>96</td>\n",
       "      <td>678</td>\n",
       "      <td>0.060293</td>\n",
       "      <td>True</td>\n",
       "    </tr>\n",
       "    <tr>\n",
       "      <th>93</th>\n",
       "      <td>....They have really done a great job in captu...</td>\n",
       "      <td>2018-11-29 22:14:22</td>\n",
       "      <td>39103</td>\n",
       "      <td>96</td>\n",
       "      <td>678</td>\n",
       "      <td>0.258333</td>\n",
       "      <td>True</td>\n",
       "    </tr>\n",
       "    <tr>\n",
       "      <th>94</th>\n",
       "      <td>.@StephenMoore and Arthur Laffer two very tale...</td>\n",
       "      <td>2018-11-29 22:14:21</td>\n",
       "      <td>44261</td>\n",
       "      <td>96</td>\n",
       "      <td>678</td>\n",
       "      <td>0.670000</td>\n",
       "      <td>True</td>\n",
       "    </tr>\n",
       "  </tbody>\n",
       "</table>\n",
       "</div>"
      ],
      "text/plain": [
       "                                                 text                date  \\\n",
       "90  We have been working hard on this - and it’s o... 2018-11-29 22:47:59   \n",
       "91  With all of the new books coming out you can't... 2018-11-29 22:43:12   \n",
       "92  .@DBongino’s new book \"Spygate: The Attempted ... 2018-11-29 22:34:18   \n",
       "93  ....They have really done a great job in captu... 2018-11-29 22:14:22   \n",
       "94  .@StephenMoore and Arthur Laffer two very tale... 2018-11-29 22:14:21   \n",
       "\n",
       "    favorites  week  day  sentiment  is_positive  \n",
       "90      45752    96  678   0.111111         True  \n",
       "91      52008    96  678   0.568182         True  \n",
       "92      65812    96  678   0.060293         True  \n",
       "93      39103    96  678   0.258333         True  \n",
       "94      44261    96  678   0.670000         True  "
      ]
     },
     "execution_count": 29,
     "metadata": {},
     "output_type": "execute_result"
    }
   ],
   "source": [
    "from textblob import TextBlob\n",
    "def get_sentiment(series):\n",
    "    blob = TextBlob(series['text'])\n",
    "    sentiment = blob.sentiment.polarity\n",
    "    series['sentiment'] = sentiment\n",
    "    series['is_positive'] = sentiment > 0\n",
    "    return series\n",
    "\n",
    "tweet_data = tweet_data.apply(get_sentiment, axis = 1)\n",
    "tweet_data.head()"
   ]
  },
  {
   "cell_type": "markdown",
   "metadata": {},
   "source": [
    "Let's do some light exploratory analysis before getting into our two hypothesis."
   ]
  },
  {
   "cell_type": "code",
   "execution_count": 30,
   "metadata": {},
   "outputs": [
    {
     "data": {
      "text/plain": [
       "<matplotlib.axes._subplots.AxesSubplot at 0x7fb3f29e79b0>"
      ]
     },
     "execution_count": 30,
     "metadata": {},
     "output_type": "execute_result"
    },
    {
     "data": {
      "image/png": "[encoded data removed]",
      "text/plain": [
       "<Figure size 432x288 with 1 Axes>"
      ]
     },
     "metadata": {},
     "output_type": "display_data"
    }
   ],
   "source": [
    "sns.countplot(x = 'is_positive', data = tweet_data)"
   ]
  },
  {
   "cell_type": "markdown",
   "metadata": {},
   "source": [
    "Contrary to intuition, it turns out Trump sends out more positive than negative tweets. Although that's still quite a bit a negativity, probably significantly more than the average twitter account!\n",
    "\n",
    "Next we'll want some basic stat's on Trump average number of retweets and his average sentiment level"
   ]
  },
  {
   "cell_type": "code",
   "execution_count": 31,
   "metadata": {},
   "outputs": [
    {
     "data": {
      "text/plain": [
       "85605.781262897231"
      ]
     },
     "execution_count": 31,
     "metadata": {},
     "output_type": "execute_result"
    }
   ],
   "source": [
    "tweet_data['favorites'].mean()"
   ]
  },
  {
   "cell_type": "code",
   "execution_count": 32,
   "metadata": {},
   "outputs": [
    {
     "data": {
      "text/plain": [
       "0.1711043860975964"
      ]
     },
     "execution_count": 32,
     "metadata": {},
     "output_type": "execute_result"
    }
   ],
   "source": [
    "tweet_data['sentiment'].mean()"
   ]
  },
  {
   "cell_type": "markdown",
   "metadata": {},
   "source": [
    "A score of .17 is consistent with our above bargraph and tells us that Trump's tweets are generally positive.\n",
    "\n",
    "## Hypothesis test\n",
    "\n",
    "After some exploration it's time to examine our hypothesis to see if sentiment affects the ammount of favorites one of Trump's tweets recieve. Our alternate hypothesis is \"There is a negative relationship between the positivity of a tweet and the ammount of favorites it recieves\" and our null hypothesis is conversely \"There is no relationship between the sentiment of a tweet and it's favorite count\".\n",
    "\n",
    "So let's get plotting!"
   ]
  },
  {
   "cell_type": "code",
   "execution_count": 33,
   "metadata": {},
   "outputs": [
    {
     "data": {
      "text/plain": [
       "<seaborn.axisgrid.FacetGrid at 0x7fb3f29e74e0>"
      ]
     },
     "execution_count": 33,
     "metadata": {},
     "output_type": "execute_result"
    },
    {
     "data": {
      "image/png": "[encoded data removed]",
      "text/plain": [
       "<Figure size 360x360 with 1 Axes>"
      ]
     },
     "metadata": {},
     "output_type": "display_data"
    }
   ],
   "source": [
    "sns.lmplot(y = 'favorites', x = 'sentiment', data = tweet_data)"
   ]
  },
  {
   "cell_type": "markdown",
   "metadata": {},
   "source": [
    "If there's a relationship it's a very small one.\n",
    "\n",
    "But even still for educations sake we are going to go ahead and explore the data even more, if only just to demonstrate some interesting tools.\n",
    "\n",
    "So seasborn allows us to fit a regression line easily, but what if we want get more details from that line? Maybe the exact y-intercept? Or slope? Or a formal metric of strength of relationship? We can use sklearn to find an exact regression object with methods to answer all those questions. We will even be able to predict outputs based on inputs.\n",
    "\n",
    "To do this, we create an empty regression model, then feed-- or fit-- it with example data. In this case we will fit it with a single x feature for every y result. In this case we need to reshape our x values."
   ]
  },
  {
   "cell_type": "code",
   "execution_count": 34,
   "metadata": {},
   "outputs": [
    {
     "data": {
      "text/plain": [
       "LinearRegression(copy_X=True, fit_intercept=True, n_jobs=1, normalize=False)"
      ]
     },
     "execution_count": 34,
     "metadata": {},
     "output_type": "execute_result"
    }
   ],
   "source": [
    "from sklearn import linear_model\n",
    "import numpy as np\n",
    "lin_reg = linear_model.LinearRegression()\n",
    "\n",
    "x = np.array(tweet_data['sentiment']).reshape(-1, 1)\n",
    "\n",
    "lin_reg.fit(x, tweet_data['favorites'])"
   ]
  },
  {
   "cell_type": "markdown",
   "metadata": {},
   "source": [
    "Now we have a regression model that can be used to predict the number of favorites a tweet gets based on its sentiment.\n",
    "\n",
    "A fully positive tweet?"
   ]
  },
  {
   "cell_type": "code",
   "execution_count": 35,
   "metadata": {},
   "outputs": [
    {
     "data": {
      "text/plain": [
       "array([ 76527.01701269])"
      ]
     },
     "execution_count": 35,
     "metadata": {},
     "output_type": "execute_result"
    }
   ],
   "source": [
    "lin_reg.predict([[1]])"
   ]
  },
  {
   "cell_type": "markdown",
   "metadata": {},
   "source": [
    "And what about a totally negative tweet?"
   ]
  },
  {
   "cell_type": "code",
   "execution_count": 36,
   "metadata": {},
   "outputs": [
    {
     "data": {
      "text/plain": [
       "array([ 98432.70476864])"
      ]
     },
     "execution_count": 36,
     "metadata": {},
     "output_type": "execute_result"
    }
   ],
   "source": [
    "lin_reg.predict([[-1]])"
   ]
  },
  {
   "cell_type": "markdown",
   "metadata": {},
   "source": [
    "We can get a quanitive metric of the strength of the relationship in the form of it's R^2 value. A value of 1 implies a very strong relationship, where 0 implies a weak relationship.\n",
    "\n",
    "We get the R^2 with the `score()` command"
   ]
  },
  {
   "cell_type": "code",
   "execution_count": 37,
   "metadata": {},
   "outputs": [
    {
     "data": {
      "text/plain": [
       "0.0096786279598264358"
      ]
     },
     "execution_count": 37,
     "metadata": {},
     "output_type": "execute_result"
    }
   ],
   "source": [
    "lin_reg.score(x, tweet_data['favorites'])"
   ]
  },
  {
   "cell_type": "markdown",
   "metadata": {},
   "source": [
    "Clearly there is not a strong relationship, at least not enough to confidently reject our null hypothesis.\n",
    "\n",
    "# Final hypothesis\n",
    "We'll examine one final relationship. Trump has been known use a collection of buzzwords in his tweets. Words and phrases like \"Fake news!\", \"Lyin' Hilary Clinton!\", \"Obstructionist democrats\", and-- his favorite boogeyman of all-- \"Obama\".\n",
    "\n",
    "We will examine if these words elicit a stronger response than the average tweet. Formally, our null hypothesis reads \"The selected keywords do not affect the ammount of favorites a tweet recieves\" and the alternative hypothesis \"The precense of our selected keywords will cause a tweet to gain a higher than average number of favorites\".\n",
    "\n",
    "To do this we wil collect the frequencies of certain words into an m x n array, where m is the total number of tweets and n is the number of keywords we examine. Then we will feed the features into a [RandomForestClassifer](https://scikit-learn.org/stable/modules/generated/sklearn.ensemble.RandomForestClassifier.html).\n",
    "\n",
    "A [random forest classifier](https://en.wikipedia.org/wiki/Random_forest) will take in a set of X values and find the closest set of examples and extrapolate a prediction based on their coresponding Y value.\n",
    "\n",
    "In this case our X values are the frequency of our keywords, and the Y values are a boolean of whether or not the tweet recieved a greater than average number of favorites."
   ]
  },
  {
   "cell_type": "code",
   "execution_count": 49,
   "metadata": {},
   "outputs": [
    {
     "data": {
      "text/plain": [
       "RandomForestClassifier(bootstrap=True, class_weight=None, criterion='gini',\n",
       "            max_depth=None, max_features='auto', max_leaf_nodes=None,\n",
       "            min_impurity_decrease=0.0, min_impurity_split=None,\n",
       "            min_samples_leaf=1, min_samples_split=2,\n",
       "            min_weight_fraction_leaf=0.0, n_estimators=10, n_jobs=1,\n",
       "            oob_score=False, random_state=None, verbose=0,\n",
       "            warm_start=False)"
      ]
     },
     "execution_count": 49,
     "metadata": {},
     "output_type": "execute_result"
    }
   ],
   "source": [
    "def make_features(series):\n",
    "    collusion = series['text'].lower().count(\"collusion\")\n",
    "    fake_news = series['text'].lower().count(\"fake news\")\n",
    "    obama = series['text'].lower().count(\"obama\")\n",
    "    obstruction = series['text'].lower().count(\"obstruction\")\n",
    "    mueller = series['text'].lower().count(\"mueller\")\n",
    "    clinton = series['text'].lower().count('clinton')\n",
    "    return pd.Series([collusion, fake_news, obama, obstruction, mueller, clinton])\n",
    "\n",
    "features = tweet_data.apply(make_features, axis = 1)\n",
    "y = tweet_data['favorites'] > tweet_data['favorites'].mean()\n",
    "\n",
    "from sklearn import linear_model\n",
    "from sklearn import ensemble\n",
    "\n",
    "clf = ensemble.RandomForestClassifier()\n",
    "clf.fit(features, y)"
   ]
  },
  {
   "cell_type": "markdown",
   "metadata": {},
   "source": [
    "Now we have a working classifer that we can used to predict based on example word frequencies!\n",
    "\n",
    "But just as before we want to get some level of confidence about our classifer, wether it really works or not. To start off, let's get a metric to see how much influence each keyword has on the prediction value. We do this with the `feature_importances_` attribute. It will return an array corresponding to the weight of each keyword."
   ]
  },
  {
   "cell_type": "code",
   "execution_count": 39,
   "metadata": {},
   "outputs": [
    {
     "data": {
      "text/plain": [
       "array([ 0.07596098,  0.46572447,  0.07110173,  0.09720084,  0.10604346,\n",
       "        0.18396851])"
      ]
     },
     "execution_count": 39,
     "metadata": {},
     "output_type": "execute_result"
    }
   ],
   "source": [
    "clf.feature_importances_"
   ]
  },
  {
   "cell_type": "markdown",
   "metadata": {},
   "source": [
    "It's quite interesting to see that \"fake news\" plays the biggest role! It seems fairly intuitive because that is a Trump classic."
   ]
  },
  {
   "cell_type": "markdown",
   "metadata": {},
   "source": [
    "Next let's get a prediction score similar to how we did for the earlier linear regression. But before we do it's important to note the limitation of our classifier. It does not have much use for extrapolation on tweets not containing those keywords, but rather only extrapolations about tweets with those keywords. Therefore, our score will be significantly lower than its true effectiveness, because we are including data without the keywords. But if the score is any higher than 50% it reflects very highly on our classifer, because it means the applicable tweets are increasaing the guess percentage significantly."
   ]
  },
  {
   "cell_type": "code",
   "execution_count": 40,
   "metadata": {},
   "outputs": [
    {
     "data": {
      "text/plain": [
       "0.60998761865456042"
      ]
     },
     "execution_count": 40,
     "metadata": {},
     "output_type": "execute_result"
    }
   ],
   "source": [
    "clf.score(features, y)"
   ]
  },
  {
   "cell_type": "markdown",
   "metadata": {},
   "source": [
    "And as expected the score is quite a bit higher than 50%!"
   ]
  },
  {
   "cell_type": "markdown",
   "metadata": {},
   "source": [
    "Let's code up a simple function to make it easy to predict"
   ]
  },
  {
   "cell_type": "code",
   "execution_count": 41,
   "metadata": {},
   "outputs": [],
   "source": [
    "def prediction_by_keyword(collusion = 0, fake_news = 0, obama = 0,\n",
    "                          obstruction = 0, mueller = 0, clinton = 0):\n",
    "    return clf.predict([[collusion, fake_news, obama, obstruction, \n",
    "                         mueller, clinton]])"
   ]
  },
  {
   "cell_type": "markdown",
   "metadata": {},
   "source": [
    "And let's test out our function to see if we can reject out null hypothesis that specific keywords do not influence if a tweet will recieve above or below average favorites."
   ]
  },
  {
   "cell_type": "code",
   "execution_count": 50,
   "metadata": {},
   "outputs": [
    {
     "name": "stdout",
     "output_type": "stream",
     "text": [
      "[ True]\n",
      "[ True]\n",
      "[ True]\n",
      "[ True]\n",
      "[ True]\n",
      "[ True]\n",
      "[ True]\n",
      "[ True]\n",
      "[ True]\n"
     ]
    }
   ],
   "source": [
    "print(prediction_by_keyword(fake_news = 2, clinton = 1))\n",
    "print(prediction_by_keyword(obstruction = 1, mueller = 1))\n",
    "print(prediction_by_keyword(1, 1, 1, 1, 1, 1))\n",
    "print(prediction_by_keyword(collusion = 1))\n",
    "print(prediction_by_keyword(collusion = 2))\n",
    "print(prediction_by_keyword(collusion = 1, fake_news = 1))\n",
    "print(prediction_by_keyword(fake_news = 1))\n",
    "print(prediction_by_keyword(fake_news = 2, mueller = 1))\n",
    "print(prediction_by_keyword(clinton = 2))"
   ]
  },
  {
   "cell_type": "markdown",
   "metadata": {},
   "source": [
    "As expected tweets containing these keywords had higher a than average number of favorites! So we will reject out null hypothesis!\n",
    "\n",
    "And this gives us important insight into the president's usage of twitter. By producing tweets that produce a positive reaction from his supporters he is enciting their enthuasism in the same way a rally does. It is always advantageous to a politician to have an enthuesiastic base.\n",
    "\n",
    "This information may influence the way Trump uses his twitter-- even if just implicitly. He knows that certain tweets get a certain reaction, specifically a reaction he likes, so he will make those tweets more often, even if just subconciously.\n",
    "\n",
    "# Conclusion\n",
    "\n",
    "Throughout this piece we tested four seperate hypothesis relating to Trump's tweeting behavior and his bases reactions to that behavior.\n",
    "\n",
    "Through hypothesis testing we discovered that Trump's approval rating does not have an impact on the frequency of his tweeting. Just because things are going bad for his administration does not mean he will spend the day tweeting. Similarly, we concluded that a negative approval rating does not influence his likelihood to stay up late in the night tweeting.\n",
    "\n",
    "These hypothesis provide valueable information for determining the legitimacy of Trump's twitter as an offical tool, rather than a glorified diary.\n",
    "\n",
    "Our final two hypothesis focused on the content of Trump's tweets and how that affected his bases perception and excitement of the message. Most interesting of all we found that scapegoat keywords caused a higher level of excitement in his followers.\n",
    "\n",
    "Trump's twitter usage is a fascinating development in the field of political communication. Just as FDR's fireside talks and Nixon's television debate sweat are the topic of much discussion, Trump's twitter too will be the subject of much study."
   ]
  }
 ],
 "metadata": {
  "kernelspec": {
   "display_name": "Python 3",
   "language": "python",
   "name": "python3"
  },
  "language_info": {
   "codemirror_mode": {
    "name": "ipython",
    "version": 3
   },
   "file_extension": ".py",
   "mimetype": "text/x-python",
   "name": "python",
   "nbconvert_exporter": "python",
   "pygments_lexer": "ipython3",
   "version": "3.6.3"
  }
 },
 "nbformat": 4,
 "nbformat_minor": 2
}
